{
 "cells": [
  {
   "cell_type": "code",
   "execution_count": 82,
   "metadata": {
    "id": "1qT-zNc81ibs"
   },
   "outputs": [],
   "source": [
    "import pandas as pd"
   ]
  },
  {
   "cell_type": "code",
   "execution_count": 141,
   "metadata": {
    "id": "qVsJ5Ow-19m5"
   },
   "outputs": [],
   "source": [
    "df_0 = pd.read_excel(\"Pre Screening - Data Engineer.xlsx\")\n",
    "\n",
    "df = df_0.iloc[0:6,1:3]\n",
    "df_1 = df_0.iloc[2:5, 3:5]\n",
    "df_2 = df_0.iloc[9:19, 1:3]\n",
    "df_3 = df_0.iloc[9:18, 3:5]\n",
    "df_4 = df_0.iloc[22:25, 1:3]"
   ]
  },
  {
   "cell_type": "code",
   "execution_count": 142,
   "metadata": {
    "id": "Yx1KkfwD_0Us"
   },
   "outputs": [],
   "source": [
    "def transpose_df(dataframe):\n",
    "  \n",
    "  dataframe.dropna(inplace = True)\n",
    "  dataframe = dataframe.transpose()\n",
    "  dataframe = dataframe.reset_index(drop = True)\n",
    "\n",
    "  return dataframe "
   ]
  },
  {
   "cell_type": "code",
   "execution_count": 143,
   "metadata": {
    "id": "LLoyHpJb_1bK"
   },
   "outputs": [],
   "source": [
    "def headers(dataframe): \n",
    "  \n",
    "  new_headers = dataframe.iloc[0]\n",
    "  dataframe = dataframe[1:]\n",
    "  dataframe.columns = new_headers \n",
    "\n",
    "  return dataframe"
   ]
  },
  {
   "cell_type": "code",
   "execution_count": 144,
   "metadata": {
    "id": "RMkZ5yr6GKOM"
   },
   "outputs": [],
   "source": [
    "df = transpose_df(df)\n",
    "df_1 = transpose_df(df_1)\n",
    "df_2 = transpose_df(df_2)\n",
    "df_3 = transpose_df(df_3)\n",
    "df_4 = transpose_df(df_4)\n",
    "\n",
    "df = headers(df)\n",
    "df_1 = headers(df_1)\n",
    "df_2 = headers(df_2)\n",
    "df_3 = headers(df_3)\n",
    "df_4 = headers(df_4)"
   ]
  },
  {
   "cell_type": "code",
   "execution_count": 149,
   "metadata": {
    "id": "2GDwu_fHKnKu"
   },
   "outputs": [],
   "source": [
    "df = df.join(df_4, how = 'left', lsuffix='left', rsuffix='right')"
   ]
  },
  {
   "cell_type": "code",
   "execution_count": 150,
   "metadata": {
    "colab": {
     "base_uri": "https://localhost:8080/",
     "height": 400
    },
    "id": "hWO_ASvBL9mZ",
    "outputId": "f0c1da82-b230-41af-b41f-7858c7f3a7b6"
   },
   "outputs": [
    {
     "data": {
      "text/html": [
       "\n",
       "  <div id=\"df-01e28386-ed33-471d-985d-d34251d61b4b\">\n",
       "    <div class=\"colab-df-container\">\n",
       "      <div>\n",
       "<style scoped>\n",
       "    .dataframe tbody tr th:only-of-type {\n",
       "        vertical-align: middle;\n",
       "    }\n",
       "\n",
       "    .dataframe tbody tr th {\n",
       "        vertical-align: top;\n",
       "    }\n",
       "\n",
       "    .dataframe thead th {\n",
       "        text-align: right;\n",
       "    }\n",
       "</style>\n",
       "<table border=\"1\" class=\"dataframe\">\n",
       "  <thead>\n",
       "    <tr style=\"text-align: right;\">\n",
       "      <th></th>\n",
       "      <th>Name</th>\n",
       "      <th>Total Years of Experience</th>\n",
       "      <th>Data Related Years of Experience</th>\n",
       "      <th>Current / Last Position</th>\n",
       "      <th>Time on Current / Last position</th>\n",
       "      <th>English Level</th>\n",
       "      <th>Location</th>\n",
       "      <th>Availability to join Avantica</th>\n",
       "      <th>Special conditions for hiring</th>\n",
       "      <th>RE</th>\n",
       "      <th>...</th>\n",
       "      <th>MongoDB, Cassandra, DynamoDB, CosmosDB, etc</th>\n",
       "      <th>SQL Server Integration Services, Spoon, Open source tools, etc</th>\n",
       "      <th>SQL Server Analysis Services, Pentaho</th>\n",
       "      <th>Tableau, Power BI, Google Data Studio, Graphana, Kibana, Metabase, Looker, etc</th>\n",
       "      <th>AWS, GCP, Azure and Alibaba Cloud. All data services a other services.</th>\n",
       "      <th>Concepts and implementations, put models in production</th>\n",
       "      <th>Python, Scala, Java, Rust, Go, PHP, Javascript, R</th>\n",
       "      <th>Describe your current role and responsibilitiesright</th>\n",
       "      <th>How does your role integrate with other areas / teams?</th>\n",
       "      <th>What has been your biggest accomplishment as Data Engineer?</th>\n",
       "    </tr>\n",
       "  </thead>\n",
       "  <tbody>\n",
       "    <tr>\n",
       "      <th>1</th>\n",
       "      <td>Pavel Gonzalez</td>\n",
       "      <td>2 years</td>\n",
       "      <td>2 years</td>\n",
       "      <td>Data Analyst (current)</td>\n",
       "      <td>6 month (current)</td>\n",
       "      <td>B2</td>\n",
       "      <td>Dominican Republic, Santo Domingo</td>\n",
       "      <td>Yes, he is available</td>\n",
       "      <td>Kind Team, Formation Professional Schedule and...</td>\n",
       "      <td>1 year and 6 months</td>\n",
       "      <td>...</td>\n",
       "      <td>Maintenance</td>\n",
       "      <td>Maintenance</td>\n",
       "      <td>Scratch</td>\n",
       "      <td>Maintenance</td>\n",
       "      <td>Scratch</td>\n",
       "      <td>Maintenance</td>\n",
       "      <td>Scratch</td>\n",
       "      <td>R: Perfomances ETL process low day in the dayw...</td>\n",
       "      <td>Gathering with all the operational data with d...</td>\n",
       "      <td>Learn is the biggest accomplishment for me, ev...</td>\n",
       "    </tr>\n",
       "  </tbody>\n",
       "</table>\n",
       "<p>1 rows × 30 columns</p>\n",
       "</div>\n",
       "      <button class=\"colab-df-convert\" onclick=\"convertToInteractive('df-01e28386-ed33-471d-985d-d34251d61b4b')\"\n",
       "              title=\"Convert this dataframe to an interactive table.\"\n",
       "              style=\"display:none;\">\n",
       "        \n",
       "  <svg xmlns=\"http://www.w3.org/2000/svg\" height=\"24px\"viewBox=\"0 0 24 24\"\n",
       "       width=\"24px\">\n",
       "    <path d=\"M0 0h24v24H0V0z\" fill=\"none\"/>\n",
       "    <path d=\"M18.56 5.44l.94 2.06.94-2.06 2.06-.94-2.06-.94-.94-2.06-.94 2.06-2.06.94zm-11 1L8.5 8.5l.94-2.06 2.06-.94-2.06-.94L8.5 2.5l-.94 2.06-2.06.94zm10 10l.94 2.06.94-2.06 2.06-.94-2.06-.94-.94-2.06-.94 2.06-2.06.94z\"/><path d=\"M17.41 7.96l-1.37-1.37c-.4-.4-.92-.59-1.43-.59-.52 0-1.04.2-1.43.59L10.3 9.45l-7.72 7.72c-.78.78-.78 2.05 0 2.83L4 21.41c.39.39.9.59 1.41.59.51 0 1.02-.2 1.41-.59l7.78-7.78 2.81-2.81c.8-.78.8-2.07 0-2.86zM5.41 20L4 18.59l7.72-7.72 1.47 1.35L5.41 20z\"/>\n",
       "  </svg>\n",
       "      </button>\n",
       "      \n",
       "  <style>\n",
       "    .colab-df-container {\n",
       "      display:flex;\n",
       "      flex-wrap:wrap;\n",
       "      gap: 12px;\n",
       "    }\n",
       "\n",
       "    .colab-df-convert {\n",
       "      background-color: #E8F0FE;\n",
       "      border: none;\n",
       "      border-radius: 50%;\n",
       "      cursor: pointer;\n",
       "      display: none;\n",
       "      fill: #1967D2;\n",
       "      height: 32px;\n",
       "      padding: 0 0 0 0;\n",
       "      width: 32px;\n",
       "    }\n",
       "\n",
       "    .colab-df-convert:hover {\n",
       "      background-color: #E2EBFA;\n",
       "      box-shadow: 0px 1px 2px rgba(60, 64, 67, 0.3), 0px 1px 3px 1px rgba(60, 64, 67, 0.15);\n",
       "      fill: #174EA6;\n",
       "    }\n",
       "\n",
       "    [theme=dark] .colab-df-convert {\n",
       "      background-color: #3B4455;\n",
       "      fill: #D2E3FC;\n",
       "    }\n",
       "\n",
       "    [theme=dark] .colab-df-convert:hover {\n",
       "      background-color: #434B5C;\n",
       "      box-shadow: 0px 1px 3px 1px rgba(0, 0, 0, 0.15);\n",
       "      filter: drop-shadow(0px 1px 2px rgba(0, 0, 0, 0.3));\n",
       "      fill: #FFFFFF;\n",
       "    }\n",
       "  </style>\n",
       "\n",
       "      <script>\n",
       "        const buttonEl =\n",
       "          document.querySelector('#df-01e28386-ed33-471d-985d-d34251d61b4b button.colab-df-convert');\n",
       "        buttonEl.style.display =\n",
       "          google.colab.kernel.accessAllowed ? 'block' : 'none';\n",
       "\n",
       "        async function convertToInteractive(key) {\n",
       "          const element = document.querySelector('#df-01e28386-ed33-471d-985d-d34251d61b4b');\n",
       "          const dataTable =\n",
       "            await google.colab.kernel.invokeFunction('convertToInteractive',\n",
       "                                                     [key], {});\n",
       "          if (!dataTable) return;\n",
       "\n",
       "          const docLinkHtml = 'Like what you see? Visit the ' +\n",
       "            '<a target=\"_blank\" href=https://colab.research.google.com/notebooks/data_table.ipynb>data table notebook</a>'\n",
       "            + ' to learn more about interactive tables.';\n",
       "          element.innerHTML = '';\n",
       "          dataTable['output_type'] = 'display_data';\n",
       "          await google.colab.output.renderOutput(dataTable, element);\n",
       "          const docLink = document.createElement('div');\n",
       "          docLink.innerHTML = docLinkHtml;\n",
       "          element.appendChild(docLink);\n",
       "        }\n",
       "      </script>\n",
       "    </div>\n",
       "  </div>\n",
       "  "
      ],
      "text/plain": [
       "0            Name Total Years of Experience Data Related Years of Experience  \\\n",
       "1  Pavel Gonzalez                   2 years                          2 years   \n",
       "\n",
       "0 Current / Last Position  Time on Current / Last position English Level  \\\n",
       "1   Data Analyst (current)               6 month (current)            B2   \n",
       "\n",
       "0                           Location Availability to join Avantica  \\\n",
       "1  Dominican Republic, Santo Domingo          Yes, he is available   \n",
       "\n",
       "0                     Special conditions for hiring                    RE  \\\n",
       "1  Kind Team, Formation Professional Schedule and...  1 year and 6 months   \n",
       "\n",
       "0  ... MongoDB, Cassandra, DynamoDB, CosmosDB, etc  \\\n",
       "1  ...                                 Maintenance   \n",
       "\n",
       "0 SQL Server Integration Services, Spoon, Open source tools, etc  \\\n",
       "1                                        Maintenance               \n",
       "\n",
       "0 SQL Server Analysis Services, Pentaho  \\\n",
       "1                               Scratch   \n",
       "\n",
       "0 Tableau, Power BI, Google Data Studio, Graphana, Kibana, Metabase, Looker, etc  \\\n",
       "1                                        Maintenance                               \n",
       "\n",
       "0 AWS, GCP, Azure and Alibaba Cloud. All data services a other services.  \\\n",
       "1                                            Scratch                       \n",
       "\n",
       "0 Concepts and implementations, put models in production  \\\n",
       "1                                        Maintenance       \n",
       "\n",
       "0 Python, Scala, Java, Rust, Go, PHP, Javascript, R  \\\n",
       "1                                           Scratch   \n",
       "\n",
       "0 Describe your current role and responsibilitiesright  \\\n",
       "1  R: Perfomances ETL process low day in the dayw...     \n",
       "\n",
       "0 How does your role integrate with other areas / teams?  \\\n",
       "1  Gathering with all the operational data with d...       \n",
       "\n",
       "0 What has been your biggest accomplishment as Data Engineer?  \n",
       "1  Learn is the biggest accomplishment for me, ev...           \n",
       "\n",
       "[1 rows x 30 columns]"
      ]
     },
     "execution_count": 150,
     "metadata": {},
     "output_type": "execute_result"
    }
   ],
   "source": [
    "df"
   ]
  },
  {
   "cell_type": "code",
   "execution_count": null,
   "metadata": {
    "id": "MOCEfuUhQ5qx"
   },
   "outputs": [],
   "source": []
  }
 ],
 "metadata": {
  "colab": {
   "provenance": []
  },
  "kernelspec": {
   "display_name": "Python 3 (ipykernel)",
   "language": "python",
   "name": "python3"
  },
  "language_info": {
   "codemirror_mode": {
    "name": "ipython",
    "version": 3
   },
   "file_extension": ".py",
   "mimetype": "text/x-python",
   "name": "python",
   "nbconvert_exporter": "python",
   "pygments_lexer": "ipython3",
   "version": "3.9.6"
  }
 },
 "nbformat": 4,
 "nbformat_minor": 4
}
