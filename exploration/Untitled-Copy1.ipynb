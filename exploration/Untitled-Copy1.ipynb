{
 "cells": [
  {
   "cell_type": "code",
   "execution_count": null,
   "id": "70feebb9-cb5c-4ef0-b24b-1c4690dede1c",
   "metadata": {},
   "outputs": [],
   "source": [
    "!pip install unidecode"
   ]
  },
  {
   "cell_type": "code",
   "execution_count": null,
   "id": "7d668c6f-03bc-4cfa-a682-70a8723b568b",
   "metadata": {},
   "outputs": [],
   "source": [
    "!pip uninstall PyMuPDF -y"
   ]
  },
  {
   "cell_type": "code",
   "execution_count": null,
   "id": "9016a2b6-53b9-4a0b-a884-53aa81aed05c",
   "metadata": {},
   "outputs": [],
   "source": [
    "!pip install frontend"
   ]
  },
  {
   "cell_type": "code",
   "execution_count": null,
   "id": "708b9f2c-a4b9-4aa6-a912-eac0fa5dbcdb",
   "metadata": {},
   "outputs": [],
   "source": [
    "!pip install PyMuPDF"
   ]
  },
  {
   "cell_type": "code",
   "execution_count": null,
   "id": "6358c66d-13fa-45bd-b4c6-e48ce3c016d1",
   "metadata": {},
   "outputs": [],
   "source": [
    "!pip install PyMuPDF==1.18.16"
   ]
  },
  {
   "cell_type": "code",
   "execution_count": 1,
   "id": "30d94e69-3c72-452d-b7fb-f8e2a504bd23",
   "metadata": {},
   "outputs": [],
   "source": [
    "import numpy as np\n",
    "import pandas as pd"
   ]
  },
  {
   "cell_type": "code",
   "execution_count": 2,
   "id": "1a2ca432-3805-4cbf-a3fd-acef8801ab1f",
   "metadata": {},
   "outputs": [],
   "source": [
    "import sys\n",
    "import os"
   ]
  },
  {
   "cell_type": "code",
   "execution_count": 3,
   "id": "910bc34c-ffeb-4677-b501-f53c40ff2452",
   "metadata": {},
   "outputs": [],
   "source": [
    "import fitz"
   ]
  },
  {
   "cell_type": "code",
   "execution_count": 4,
   "id": "f5aaf496-77d1-4831-a0a7-faeefef6d128",
   "metadata": {},
   "outputs": [],
   "source": [
    "from unidecode import unidecode "
   ]
  },
  {
   "cell_type": "code",
   "execution_count": 5,
   "id": "c40800cb-4610-43bd-8ea9-b44e024c3d88",
   "metadata": {},
   "outputs": [],
   "source": [
    "cv_folder = '../data/cv/'"
   ]
  },
  {
   "cell_type": "code",
   "execution_count": 26,
   "id": "f6a314e3-c982-4bbb-b1e4-d3b83e735262",
   "metadata": {},
   "outputs": [],
   "source": [
    "fname = 'José Luis Gutiérrez Mendoza.docx.pdf'"
   ]
  },
  {
   "cell_type": "code",
   "execution_count": 55,
   "id": "76e8b194-665e-45be-b9ba-74fe69458d99",
   "metadata": {},
   "outputs": [
    {
     "name": "stdout",
     "output_type": "stream",
     "text": [
      " \n",
      " \n",
      " \n",
      " \n",
      "      WORK EXPERIENCE \n",
      " \n",
      "SENIOR DATA ENGINEER \n",
      " \n",
      "•\n",
      "Leading and supervising software solutions with Business Intelligence \n",
      "technologies. \n",
      "•\n",
      "Intermediating between the factory and the customer to solve \n",
      "impediments. \n",
      "•\n",
      "Designing, developing, and optimizing data warehouse objects, \n",
      "operational reports and ETLs. \n",
      "SENIOR BUSINESS INTELLIGENCE DEVELOPER \n",
      "At Tata Consultancy Services (TCS) \n",
      "06-2021 \n",
      "06-2019 \n",
      "     WHY ME? \n",
      " \n",
      "MARTINEZ ORTIZ \n",
      "SEBASTIAN \n",
      " \n",
      "I am a responsible and proactive person, \n",
      "results-driven, always looking for the \n",
      "best solution to the problems. I am good \n",
      "at working in a team or alone. I like to \n",
      "support colleagues in the inconveniences \n",
      "they have. I am a leader who positively \n",
      "influences \n",
      "others, \n",
      "guiding \n",
      "them \n",
      "to \n",
      "achieve common goals. I like to create a \n",
      "work environment based on trust and \n",
      "credibility according to the aptitudes of \n",
      "each one, in order to achieve maximum \n",
      "work team performance. I love to learn \n",
      "and improve myself every day, I am \n",
      "passionate about challenges, and I \n",
      "always do my best to achieve the goals I \n",
      "set to myself. \n",
      "At IG Services (Intergrupo) \n",
      "•\n",
      "Designing, developing, and optimizing data warehouse objects and ETLs, \n",
      "operational and analytical reports, multidimensional cubes. \n",
      "INTERMEDIATE BUSINESS INTELLIGENCE DEVELOPER \n",
      " \n",
      "06-2019 \n",
      "02-2017 \n",
      "     LANGUAGES \n",
      " \n",
      "IT Engineer \n",
      "At Fundación Universitaria Católica del Norte \n",
      "Present \n",
      "9 semester \n",
      "CONTACTS \n",
      " \n",
      "At Personal Soft \n",
      "•\n",
      "Designing, developing and optimizing data warehouse objects, \n",
      "operational reports and ETLs. \n",
      "•\n",
      "Developing software solutions in ASP.NET and C#. \n",
      "INTERMEDIATE SOFTWARE ANALYST \n",
      " \n",
      "02-2017 \n",
      "10-2013 \n",
      "     EDUCATION \n",
      " \n",
      "Software Analysis and Development Technologist \n",
      "At Servicio Nacional de Aprendizaje (SENA) \n",
      "2011-2013 \n",
      "Software Programming Technician \n",
      "At Servicio Nacional de Aprendizaje (SENA) \n",
      " \n",
      "2009-2011 \n",
      "Spanish \n",
      "English \n",
      "Portuguese \n",
      " \n",
      "        sebas.7125@gmail.com \n",
      "         +57 3003537522 \n",
      "         https://www.linkedin.com/in/sebastian-martinez-ortiz/ \n",
      "        Medellín, Antioquia, Colombia \n",
      " \n",
      "At Growth Acceleration Partners (GAP) \n",
      "•\n",
      "Leading an MDM Project with Profisee tool. \n",
      "•\n",
      "Developing solutions in Azure Data Factory integrated with DevOps. \n",
      "•\n",
      "Developing Databricks Notebooks. \n",
      "•\n",
      "Developing and optimizing ETLs and SQL Objects. \n",
      "ADVANCED DATA ENGINEER \n",
      " \n",
      "04-2022 \n",
      "07-2021 \n",
      "     SKILLS \n",
      " \n",
      "SQL Server \n",
      "MDM \n",
      "Snowflake \n",
      "Azure \n",
      "DevOps \n",
      "Databricks \n",
      "SSIS \n",
      "SSRS \n",
      "SSAS \n",
      "Power BI \n",
      ".NET \n",
      "Agile/Scrum \n",
      "Oracle PL/SQL \n",
      "MySQL \n",
      "PHP \n",
      "HTML, CSS \n",
      "At Blankfactor \n",
      "•\n",
      "Developing and optimizing views, procedures, and ELT processes. \n",
      "•\n",
      "Developing data loads and transformations in Snowflake. \n",
      "SENIOR DATA ENGINEER \n",
      " \n",
      "Present \n",
      "05-2022 \n",
      " \n",
      "\n",
      "##################################################\n"
     ]
    }
   ],
   "source": [
    "for fname in os.listdir(cv_folder):\n",
    "    fname = 'CV Sebastian Martinez.pdf'\n",
    "    fpath = os.path.join(cv_folder, fname)\n",
    "    with fitz.open(fpath) as doc:\n",
    "        text =\"\"\n",
    "        for page in doc:\n",
    "            text = text + str(page.getText('block'))\n",
    "\n",
    "        print(text)\n",
    "    print('#'*50)\n",
    "    break"
   ]
  },
  {
   "cell_type": "code",
   "execution_count": null,
   "id": "90bed523-99a7-42e5-bce3-ddf54217ba76",
   "metadata": {},
   "outputs": [],
   "source": []
  },
  {
   "cell_type": "code",
   "execution_count": null,
   "id": "8b83db98-5a59-422b-9c6d-28db2f40a80b",
   "metadata": {},
   "outputs": [],
   "source": []
  }
 ],
 "metadata": {
  "kernelspec": {
   "display_name": "Python 3 (ipykernel)",
   "language": "python",
   "name": "python3"
  },
  "language_info": {
   "codemirror_mode": {
    "name": "ipython",
    "version": 3
   },
   "file_extension": ".py",
   "mimetype": "text/x-python",
   "name": "python",
   "nbconvert_exporter": "python",
   "pygments_lexer": "ipython3",
   "version": "3.9.6"
  }
 },
 "nbformat": 4,
 "nbformat_minor": 5
}
