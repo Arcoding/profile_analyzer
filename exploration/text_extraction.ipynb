{
 "cells": [
  {
   "cell_type": "code",
   "execution_count": 1,
   "id": "3ea762b9-7aac-4770-86a8-9dba7805a8af",
   "metadata": {},
   "outputs": [],
   "source": [
    "# Import libraries\n",
    "import numpy as np\n",
    "import pandas as pd\n",
    "import sys\n",
    "import os\n",
    "import fitz\n",
    "from unidecode import unidecode \n",
    "import re\n",
    "import datetime\n",
    "from spacy import displacy\n",
    "import spacy\n",
    "import unicodedata"
   ]
  },
  {
   "cell_type": "code",
   "execution_count": null,
   "id": "231eeb5f-4794-40a4-b7a4-be7e4a1d3d95",
   "metadata": {},
   "outputs": [],
   "source": []
  },
  {
   "cell_type": "code",
   "execution_count": 2,
   "id": "6de5e058-7b07-423d-b008-b211ed72aa2f",
   "metadata": {},
   "outputs": [],
   "source": [
    "cv_folder = '../data/cv'"
   ]
  },
  {
   "cell_type": "code",
   "execution_count": 176,
   "id": "5196c56e-3696-499e-ada1-1ab96668dc9a",
   "metadata": {},
   "outputs": [],
   "source": [
    "cv_file_name = 'CV Melvin Leal.pdf'#'Resume-Franklin-Herrera (1).pdf'\n",
    "cv_file_name = '202206 Javier Andújar CV.pdf'\n",
    "#cv_file_name = 'José Luis Gutiérrez Mendoza.docx.pdf'\n"
   ]
  },
  {
   "cell_type": "code",
   "execution_count": 177,
   "id": "615afa8b-5d67-4085-8a68-77522677f1bd",
   "metadata": {},
   "outputs": [],
   "source": [
    "DIGITIZED_FILE = os.path.join(cv_folder,cv_file_name)"
   ]
  },
  {
   "cell_type": "code",
   "execution_count": 226,
   "id": "b7ae3494-0101-432c-a87a-ae2b0a1c0002",
   "metadata": {
    "tags": []
   },
   "outputs": [],
   "source": [
    "with fitz.open(DIGITIZED_FILE) as doc:\n",
    "    block_dict = {}\n",
    "    page_num = 1\n",
    "    line_num_test = 1\n",
    "    \n",
    "    for page in doc: # Iterate all pages in the document\n",
    "        file_dict = page.get_text('dict') # Get the page dictionary \n",
    "        block = file_dict['blocks'] # Get the block information\n",
    "        \n",
    "        for a in block:   \n",
    "            if a[\"type\"] == 0:\n",
    "                for line in a['lines']:\n",
    "                    for span in line['spans']:\n",
    "                        span[\"page_num\"] = page_num\n",
    "                        span[\"line_num\"] =  line_num_test\n",
    "\n",
    "                line_num_test += 1\n",
    "\n",
    "            else :\n",
    "                a[\"page_num\"] = page_num\n",
    "\n",
    "        block_dict[page_num] = block # Store in block dictionary\n",
    "\n",
    "        page_num += 1 # Increase the page value by 1"
   ]
  },
  {
   "cell_type": "code",
   "execution_count": 180,
   "id": "58efee7e-3f8d-4c5d-b26e-9e900f58629e",
   "metadata": {
    "id": "6TsFHwKg952I"
   },
   "outputs": [],
   "source": [
    "rows = []\n",
    "\n",
    "for page_num, blocks in block_dict.items():\n",
    "    for block in blocks:\n",
    "        if block['type'] == 0:\n",
    "            for line in block['lines']:\n",
    "                for span in line['spans']:\n",
    "                    xmin, ymin, xmax, ymax = list(span['bbox'])\n",
    "                    font_size = span['size']\n",
    "                    color = span['color']\n",
    "                    text = unidecode(span['text'])\n",
    "                    span_font = span['font']\n",
    "                    num_page = span[\"page_num\"]\n",
    "                    line_num = span['line_num']\n",
    "                    block_num = block['number']\n",
    "                    is_upper = False\n",
    "                    is_bold = False \n",
    "                    if \"bold\" in span_font.lower():\n",
    "                        is_bold = True \n",
    "                    if re.sub(\"[\\(\\[].*?[\\)\\]]\", \"\", text).isupper():\n",
    "                        is_upper = True\n",
    "                    if text.replace(\" \",\"\") !=  \"\":\n",
    "                        rows.append((xmin, ymin, xmax, ymax, line_num, block_num, num_page, text, is_upper, is_bold, span_font, font_size, color))\n",
    "                        \n",
    "\n",
    "span_df = pd.DataFrame(rows, columns=['xmin','ymin','xmax','ymax', 'line_num', 'block_num', \"page_num\", 'text', 'is_upper','is_bold','span_font', 'font_size', 'color'])"
   ]
  },
  {
   "cell_type": "code",
   "execution_count": 182,
   "id": "27b28e22-422d-41af-aa3f-a14e3b13a12a",
   "metadata": {},
   "outputs": [],
   "source": [
    "span_scores = []\n",
    "span_num_occur = {}\n",
    "special = '[(_:/,#%\\=@)]'\n",
    "\n",
    "for index, span_row in span_df.iterrows():\n",
    "    score = round(span_row.font_size)\n",
    "    text = span_row.text\n",
    "\n",
    "    if not re.search(special, text):\n",
    "        if span_row.is_bold:\n",
    "            score +=1 \n",
    "\n",
    "        if span_row.is_upper:\n",
    "            score +=1\n",
    "    span_scores.append(score)\n",
    "values, counts = np.unique(span_scores, return_counts=True)"
   ]
  },
  {
   "cell_type": "code",
   "execution_count": 183,
   "id": "5f8d191b-28f8-4235-8f74-509c893cdcc2",
   "metadata": {},
   "outputs": [
    {
     "data": {
      "text/plain": [
       "[(17, 2), (8, 3), (18, 3), (12, 7), (13, 13), (10, 22), (11, 108)]"
      ]
     },
     "execution_count": 183,
     "metadata": {},
     "output_type": "execute_result"
    }
   ],
   "source": [
    "values, counts = np.unique(span_scores, return_counts=True)\n",
    "style_dict = {}\n",
    "for value, count in zip(values, counts):\n",
    "    style_dict[value] = count\n",
    "sorted(style_dict.items(), key=lambda x: x[1])"
   ]
  },
  {
   "cell_type": "code",
   "execution_count": 184,
   "id": "862a3bf1-24b5-41b8-a237-5fc8ffb5ab04",
   "metadata": {},
   "outputs": [],
   "source": [
    "p_size = max(style_dict, key=style_dict.get)\n",
    "idx = 0\n",
    "tag = {}\n",
    "\n",
    "for size in sorted(values, reverse = True):\n",
    "    idx += 1\n",
    "    if size == p_size:\n",
    "        idx = 0\n",
    "        tag[size] = 'p'\n",
    "    if size > p_size:\n",
    "        tag[size] = 'h{0}'.format(idx)\n",
    "    if size < p_size:\n",
    "        tag[size] = 's{0}'.format(idx)"
   ]
  },
  {
   "cell_type": "code",
   "execution_count": 185,
   "id": "f3367fb6-e12b-468e-8d8d-1a22030a9217",
   "metadata": {},
   "outputs": [],
   "source": [
    "span_tags = [tag[score] for score in span_scores]\n",
    "\n",
    "span_df['tag'] = span_tags"
   ]
  },
  {
   "cell_type": "markdown",
   "id": "0ff56463-3f7f-4707-8022-5e416db927ba",
   "metadata": {
    "id": "D5IzEmQQWgCs"
   },
   "source": [
    "## Data Handling"
   ]
  },
  {
   "cell_type": "markdown",
   "id": "af44bc1d-6a73-4b9d-8b33-44351b01a8d0",
   "metadata": {
    "id": "OXeFRdiMHcub"
   },
   "source": [
    "### Columns Pre bucketing "
   ]
  },
  {
   "cell_type": "markdown",
   "id": "2a8d10dc-2f3b-4b70-8b4c-b4e718053203",
   "metadata": {
    "id": "ANlhOqwDpR09"
   },
   "source": [
    "As can be seen in the dataframe, there is text from the same line separated by rows. This for/while loop joins them together with its correct bbox values per variable."
   ]
  },
  {
   "cell_type": "code",
   "execution_count": 198,
   "id": "b6262b4d-ae79-48e2-ba28-68a1d5f79ac7",
   "metadata": {
    "id": "u5JeW3O_WClz"
   },
   "outputs": [],
   "source": [
    "## Merge text from same line\n",
    "deletion = []\n",
    "\n",
    "for index, line in enumerate(span_df.line_num):\n",
    "  \n",
    "    try :\n",
    "        contador = 1\n",
    "        while span_df.loc[index, 'line_num'] == span_df.loc[(index + contador), 'line_num']: \n",
    "            span_df.loc[index, 'text'] = span_df.loc[index,'text'] + \" \" + span_df.loc[index+contador, 'text']\n",
    "            deletion.append(index+contador)\n",
    "            contador += 1\n",
    "\n",
    "        if contador > 1:\n",
    "            span_df.loc[index, 'xmin'] = [min(span_df.loc[index:index+contador - 1,'xmin'])]\n",
    "            span_df.loc[index, 'ymin'] = [min(span_df.loc[index:index+contador - 1,'ymin'])]\n",
    "            span_df.loc[index, 'xmax'] = [max(span_df.loc[index:index+contador - 1,'xmax'])]\n",
    "            span_df.loc[index, 'ymax'] = [max(span_df.loc[index:index+contador - 1,'ymax'])]\n",
    "\n",
    "    except KeyError as error :\n",
    "        continue"
   ]
  },
  {
   "cell_type": "code",
   "execution_count": 199,
   "id": "9a7829d8-6fde-46df-be54-b429c4b0ea55",
   "metadata": {
    "id": "Dgf-G2uoWfPS"
   },
   "outputs": [],
   "source": [
    "span_df.drop(deletion, axis = 0, inplace= True)\n",
    "span_df.reset_index(drop = True, inplace = True)"
   ]
  },
  {
   "cell_type": "code",
   "execution_count": 225,
   "id": "52d04431-68bc-407e-97c3-5c7485159b09",
   "metadata": {},
   "outputs": [
    {
     "name": "stdout",
     "output_type": "stream",
     "text": [
      "2 columns in the document\n"
     ]
    },
    {
     "name": "stderr",
     "output_type": "stream",
     "text": [
      "/var/folders/v2/qknnv4n91jg_n5dynkby31nh0000gp/T/ipykernel_46323/2192374198.py:8: SettingWithCopyWarning: \n",
      "A value is trying to be set on a copy of a slice from a DataFrame.\n",
      "Try using .loc[row_indexer,col_indexer] = value instead\n",
      "\n",
      "See the caveats in the documentation: https://pandas.pydata.org/pandas-docs/stable/user_guide/indexing.html#returning-a-view-versus-a-copy\n",
      "  page_one['flg_other_column']=((page_one['xmax']<main_col_x_min )| (page_one['xmin']>main_col_x_max ))*1\n"
     ]
    },
    {
     "data": {
      "text/html": [
       "<div>\n",
       "<style scoped>\n",
       "    .dataframe tbody tr th:only-of-type {\n",
       "        vertical-align: middle;\n",
       "    }\n",
       "\n",
       "    .dataframe tbody tr th {\n",
       "        vertical-align: top;\n",
       "    }\n",
       "\n",
       "    .dataframe thead th {\n",
       "        text-align: right;\n",
       "    }\n",
       "</style>\n",
       "<table border=\"1\" class=\"dataframe\">\n",
       "  <thead>\n",
       "    <tr style=\"text-align: right;\">\n",
       "      <th></th>\n",
       "      <th>xmin</th>\n",
       "      <th>ymin</th>\n",
       "      <th>xmax</th>\n",
       "      <th>ymax</th>\n",
       "      <th>line_num</th>\n",
       "      <th>block_num</th>\n",
       "      <th>page_num</th>\n",
       "      <th>text</th>\n",
       "      <th>is_upper</th>\n",
       "      <th>is_bold</th>\n",
       "      <th>span_font</th>\n",
       "      <th>font_size</th>\n",
       "      <th>color</th>\n",
       "      <th>tag</th>\n",
       "      <th>column</th>\n",
       "    </tr>\n",
       "  </thead>\n",
       "  <tbody>\n",
       "    <tr>\n",
       "      <th>87</th>\n",
       "      <td>461.899994</td>\n",
       "      <td>309.429962</td>\n",
       "      <td>487.116638</td>\n",
       "      <td>317.469971</td>\n",
       "      <td>131</td>\n",
       "      <td>14</td>\n",
       "      <td>4</td>\n",
       "      <td>Spanish English</td>\n",
       "      <td>False</td>\n",
       "      <td>False</td>\n",
       "      <td>Calibri</td>\n",
       "      <td>8.04</td>\n",
       "      <td>7105644</td>\n",
       "      <td>s2</td>\n",
       "      <td>secondary</td>\n",
       "    </tr>\n",
       "    <tr>\n",
       "      <th>30</th>\n",
       "      <td>30.600000</td>\n",
       "      <td>59.429962</td>\n",
       "      <td>136.177902</td>\n",
       "      <td>75.389961</td>\n",
       "      <td>38</td>\n",
       "      <td>37</td>\n",
       "      <td>1</td>\n",
       "      <td>Javier Gonzalez</td>\n",
       "      <td>False</td>\n",
       "      <td>True</td>\n",
       "      <td>Calibri,Bold</td>\n",
       "      <td>15.96</td>\n",
       "      <td>16777215</td>\n",
       "      <td>h2</td>\n",
       "      <td>secondary</td>\n",
       "    </tr>\n",
       "    <tr>\n",
       "      <th>8</th>\n",
       "      <td>217.250000</td>\n",
       "      <td>196.429962</td>\n",
       "      <td>381.281708</td>\n",
       "      <td>206.389969</td>\n",
       "      <td>12</td>\n",
       "      <td>11</td>\n",
       "      <td>1</td>\n",
       "      <td>Buenos Aires City -- Nov 2018-Jan 2021</td>\n",
       "      <td>False</td>\n",
       "      <td>False</td>\n",
       "      <td>Calibri</td>\n",
       "      <td>9.96</td>\n",
       "      <td>9605778</td>\n",
       "      <td>s1</td>\n",
       "      <td>main</td>\n",
       "    </tr>\n",
       "  </tbody>\n",
       "</table>\n",
       "</div>"
      ],
      "text/plain": [
       "          xmin        ymin        xmax        ymax  line_num  block_num  \\\n",
       "87  461.899994  309.429962  487.116638  317.469971       131         14   \n",
       "30   30.600000   59.429962  136.177902   75.389961        38         37   \n",
       "8   217.250000  196.429962  381.281708  206.389969        12         11   \n",
       "\n",
       "    page_num                                     text  is_upper  is_bold  \\\n",
       "87         4                          Spanish English     False    False   \n",
       "30         1                         Javier Gonzalez      False     True   \n",
       "8          1  Buenos Aires City -- Nov 2018-Jan 2021      False    False   \n",
       "\n",
       "       span_font  font_size     color tag     column  \n",
       "87       Calibri       8.04   7105644  s2  secondary  \n",
       "30  Calibri,Bold      15.96  16777215  h2  secondary  \n",
       "8        Calibri       9.96   9605778  s1       main  "
      ]
     },
     "metadata": {},
     "output_type": "display_data"
    }
   ],
   "source": [
    "## Identify columns patterns in first page\n",
    "## Assume first page columns pattern is replicated over pages\n",
    "page_one = span_df[span_df['page_num']==1]\n",
    "\n",
    "main_col_x_min = page_one['xmin'].value_counts().index[0]\n",
    "main_col_x_max = page_one[page_one['xmin']==main_col_x_min]['xmax'].min()\n",
    "main_col_y_min = page_one[page_one['xmin']==main_col_x_min]['ymin'].min()\n",
    "page_one['flg_other_column']=((page_one['xmax']<main_col_x_min )| (page_one['xmin']>main_col_x_max ))*1\n",
    "\n",
    "span_df['column']='main'\n",
    "if page_one['flg_other_column'].sum()>=5:\n",
    "    span_df.loc[((span_df['xmax']<main_col_x_min )| (span_df['xmin']>main_col_x_max )),'column']='secondary'\n",
    "    print('2 columns in the document')\n",
    "display(span_df.sample(3))    "
   ]
  },
  {
   "cell_type": "code",
   "execution_count": null,
   "id": "825ae4fc-f2b0-4b40-b25d-403f8299605b",
   "metadata": {},
   "outputs": [],
   "source": []
  }
 ],
 "metadata": {
  "kernelspec": {
   "display_name": "Python 3 (ipykernel)",
   "language": "python",
   "name": "python3"
  },
  "language_info": {
   "codemirror_mode": {
    "name": "ipython",
    "version": 3
   },
   "file_extension": ".py",
   "mimetype": "text/x-python",
   "name": "python",
   "nbconvert_exporter": "python",
   "pygments_lexer": "ipython3",
   "version": "3.9.6"
  }
 },
 "nbformat": 4,
 "nbformat_minor": 5
}
